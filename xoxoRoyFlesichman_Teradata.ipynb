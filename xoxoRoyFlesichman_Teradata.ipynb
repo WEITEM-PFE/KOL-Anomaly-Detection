{
 "cells": [
  {
   "cell_type": "code",
   "execution_count": 44,
   "metadata": {
    "collapsed": false
   },
   "outputs": [],
   "source": [
    "#import libraries\n",
    "import teradata as td\n",
    "import pandas as pd\n",
    "from getpass import getpass, getuser"
   ]
  },
  {
   "cell_type": "code",
   "execution_count": 45,
   "metadata": {
    "collapsed": false
   },
   "outputs": [
    {
     "name": "stdout",
     "output_type": "stream",
     "text": [
      "WEITEM\n",
      "Teradata Password: ········\n"
     ]
    }
   ],
   "source": [
    "#log in to Teradata\n",
    "udaExec = td.UdaExec(appName=\"Pfizer_KOL_CMS_App\", version=\"1.0\",\n",
    "        logConsole=False)\n",
    "\n",
    "uname = getuser()\n",
    "print(uname)\n",
    "pword = getpass(\"Teradata Password: \")\n",
    " \n",
    "session = udaExec.connect(method=\"odbc\", system=\"amrndhp3\",\n",
    "        username=uname, password=pword);"
   ]
  },
  {
   "cell_type": "code",
   "execution_count": 46,
   "metadata": {
    "collapsed": false
   },
   "outputs": [
    {
     "name": "stdout",
     "output_type": "stream",
     "text": [
      "Wall time: 15.1 s\n"
     ]
    }
   ],
   "source": [
    "%%time\n",
    "\n",
    "# get CMS data\n",
    "listed_data = []\n",
    "data = session.execute(\"SELECT * FROM HVAD_TEAM_T.mw_cms_kol_all_2k17\")\n",
    "for row in data:\n",
    "    listed_data.append(row[0:])"
   ]
  },
  {
   "cell_type": "code",
   "execution_count": 38,
   "metadata": {
    "collapsed": false
   },
   "outputs": [
    {
     "data": {
      "text/plain": [
       "['record_id',\n",
       " 'phys_full_name',\n",
       " 'assoc_type',\n",
       " 'product',\n",
       " 'payment_date',\n",
       " 'amount',\n",
       " 'num_payments',\n",
       " 'payment_nature',\n",
       " 'Payment_Year',\n",
       " 'submitting_company',\n",
       " 'paying_company',\n",
       " 'consolidating_company']"
      ]
     },
     "execution_count": 38,
     "metadata": {},
     "output_type": "execute_result"
    }
   ],
   "source": [
    "# get column names\n",
    "col_names = []\n",
    "col_names_ter = session.execute(\"SELECT ColumnName FROM dbc.ColumnsV WHERE DatabaseName='HVAD_TEAM_T' AND TableName='mw_cms_kol_all_2k17' ORDER BY ColumnId\")\n",
    "for item in col_names_ter:\n",
    "    col_names.append(item[0])\n",
    "col_names"
   ]
  },
  {
   "cell_type": "code",
   "execution_count": 40,
   "metadata": {
    "collapsed": false
   },
   "outputs": [
    {
     "data": {
      "text/html": [
       "<div>\n",
       "<table border=\"1\" class=\"dataframe\">\n",
       "  <thead>\n",
       "    <tr style=\"text-align: right;\">\n",
       "      <th></th>\n",
       "      <th>record_id</th>\n",
       "      <th>phys_full_name</th>\n",
       "      <th>assoc_type</th>\n",
       "      <th>product</th>\n",
       "      <th>payment_date</th>\n",
       "      <th>amount</th>\n",
       "      <th>num_payments</th>\n",
       "      <th>payment_nature</th>\n",
       "      <th>Payment_Year</th>\n",
       "      <th>submitting_company</th>\n",
       "      <th>paying_company</th>\n",
       "      <th>consolidating_company</th>\n",
       "    </tr>\n",
       "  </thead>\n",
       "  <tbody>\n",
       "    <tr>\n",
       "      <th>0</th>\n",
       "      <td>389957222</td>\n",
       "      <td>Soloman, Nehad</td>\n",
       "      <td>recipient</td>\n",
       "      <td>PROLIA</td>\n",
       "      <td>2016-10-06</td>\n",
       "      <td>123.19</td>\n",
       "      <td>1</td>\n",
       "      <td>Food and Beverage</td>\n",
       "      <td>2016</td>\n",
       "      <td>Amgen Inc.</td>\n",
       "      <td>Amgen Inc.</td>\n",
       "      <td>Amgen Inc.</td>\n",
       "    </tr>\n",
       "    <tr>\n",
       "      <th>1</th>\n",
       "      <td>31093345</td>\n",
       "      <td>Strand, Vibeke</td>\n",
       "      <td>recipient</td>\n",
       "      <td>None</td>\n",
       "      <td>2013-11-06</td>\n",
       "      <td>65.07</td>\n",
       "      <td>1</td>\n",
       "      <td>Travel and Lodging</td>\n",
       "      <td>2013</td>\n",
       "      <td>AbbVie, Inc.</td>\n",
       "      <td>AbbVie, Inc.</td>\n",
       "      <td>AbbVie, Inc.</td>\n",
       "    </tr>\n",
       "    <tr>\n",
       "      <th>2</th>\n",
       "      <td>309188896</td>\n",
       "      <td>Aelion, Jacob</td>\n",
       "      <td>recipient</td>\n",
       "      <td>HUMIRA</td>\n",
       "      <td>2015-02-25</td>\n",
       "      <td>12.95</td>\n",
       "      <td>1</td>\n",
       "      <td>Food and Beverage</td>\n",
       "      <td>2015</td>\n",
       "      <td>AbbVie, Inc.</td>\n",
       "      <td>AbbVie, Inc.</td>\n",
       "      <td>AbbVie, Inc.</td>\n",
       "    </tr>\n",
       "    <tr>\n",
       "      <th>3</th>\n",
       "      <td>359329330</td>\n",
       "      <td>Lambert, Rhonda E</td>\n",
       "      <td>recipient</td>\n",
       "      <td>KRYSTEXXA</td>\n",
       "      <td>2016-08-12</td>\n",
       "      <td>43.14</td>\n",
       "      <td>1</td>\n",
       "      <td>Food and Beverage</td>\n",
       "      <td>2016</td>\n",
       "      <td>Horizon Pharma plc</td>\n",
       "      <td>Horizon Pharma plc</td>\n",
       "      <td>Horizon Pharma plc</td>\n",
       "    </tr>\n",
       "    <tr>\n",
       "      <th>4</th>\n",
       "      <td>388751724</td>\n",
       "      <td>Huffstutter, Joseph E</td>\n",
       "      <td>recipient</td>\n",
       "      <td>ENBREL</td>\n",
       "      <td>2016-11-11</td>\n",
       "      <td>12.40</td>\n",
       "      <td>1</td>\n",
       "      <td>Food and Beverage</td>\n",
       "      <td>2016</td>\n",
       "      <td>Amgen Inc.</td>\n",
       "      <td>Amgen Inc.</td>\n",
       "      <td>Amgen Inc.</td>\n",
       "    </tr>\n",
       "  </tbody>\n",
       "</table>\n",
       "</div>"
      ],
      "text/plain": [
       "   record_id         phys_full_name assoc_type    product payment_date  \\\n",
       "0  389957222         Soloman, Nehad  recipient     PROLIA   2016-10-06   \n",
       "1   31093345         Strand, Vibeke  recipient       None   2013-11-06   \n",
       "2  309188896          Aelion, Jacob  recipient     HUMIRA   2015-02-25   \n",
       "3  359329330      Lambert, Rhonda E  recipient  KRYSTEXXA   2016-08-12   \n",
       "4  388751724  Huffstutter, Joseph E  recipient     ENBREL   2016-11-11   \n",
       "\n",
       "   amount num_payments      payment_nature Payment_Year  submitting_company  \\\n",
       "0  123.19            1   Food and Beverage         2016          Amgen Inc.   \n",
       "1   65.07            1  Travel and Lodging         2013        AbbVie, Inc.   \n",
       "2   12.95            1   Food and Beverage         2015        AbbVie, Inc.   \n",
       "3   43.14            1   Food and Beverage         2016  Horizon Pharma plc   \n",
       "4   12.40            1   Food and Beverage         2016          Amgen Inc.   \n",
       "\n",
       "       paying_company consolidating_company  \n",
       "0          Amgen Inc.            Amgen Inc.  \n",
       "1        AbbVie, Inc.          AbbVie, Inc.  \n",
       "2        AbbVie, Inc.          AbbVie, Inc.  \n",
       "3  Horizon Pharma plc    Horizon Pharma plc  \n",
       "4          Amgen Inc.            Amgen Inc.  "
      ]
     },
     "execution_count": 40,
     "metadata": {},
     "output_type": "execute_result"
    }
   ],
   "source": [
    "# make dataframe\n",
    "df = pd.DataFrame(data=listed_data, columns = col_names)\n",
    "df.head()"
   ]
  },
  {
   "cell_type": "code",
   "execution_count": 43,
   "metadata": {
    "collapsed": false
   },
   "outputs": [
    {
     "data": {
      "text/plain": [
       "119402"
      ]
     },
     "execution_count": 43,
     "metadata": {},
     "output_type": "execute_result"
    }
   ],
   "source": [
    "from sklearn import ensemble\n",
    "\n",
    "ensemble.IsolationForest"
   ]
  }
 ],
 "metadata": {
  "anaconda-cloud": {},
  "kernelspec": {
   "display_name": "Python [Root]",
   "language": "python",
   "name": "Python [Root]"
  },
  "language_info": {
   "codemirror_mode": {
    "name": "ipython",
    "version": 3
   },
   "file_extension": ".py",
   "mimetype": "text/x-python",
   "name": "python",
   "nbconvert_exporter": "python",
   "pygments_lexer": "ipython3",
   "version": "3.5.4"
  }
 },
 "nbformat": 4,
 "nbformat_minor": 0
}
