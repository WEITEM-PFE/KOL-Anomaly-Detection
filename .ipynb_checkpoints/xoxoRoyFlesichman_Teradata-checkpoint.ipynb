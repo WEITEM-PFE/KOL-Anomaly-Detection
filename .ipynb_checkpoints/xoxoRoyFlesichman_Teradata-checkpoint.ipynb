{
 "cells": [
  {
   "cell_type": "markdown",
   "metadata": {},
   "source": [
    "# KOL Anomaly Detection\n",
    "http://scikit-learn.org/stable/modules/outlier_detection.html#id1"
   ]
  },
  {
   "cell_type": "code",
   "execution_count": 1,
   "metadata": {
    "collapsed": false
   },
   "outputs": [],
   "source": [
    "# Import libraries\n",
    "\n",
    "import teradata as td\n",
    "import pandas as pd\n",
    "import numpy as np\n",
    "from getpass import getpass, getuser\n",
    "# import matplotlib.pyplot as plt"
   ]
  },
  {
   "cell_type": "code",
   "execution_count": 2,
   "metadata": {
    "collapsed": false
   },
   "outputs": [
    {
     "name": "stdout",
     "output_type": "stream",
     "text": [
      "WEITEM\n",
      "Teradata Password: ········\n"
     ]
    }
   ],
   "source": [
    "# Log in to Teradata\n",
    "\n",
    "udaExec = td.UdaExec(appName=\"Pfizer_KOL_CMS_App\", version=\"1.0\",\n",
    "        logConsole=False)\n",
    "\n",
    "uname = getuser()\n",
    "print(uname)\n",
    "pword = getpass(\"Teradata Password: \")\n",
    " \n",
    "session = udaExec.connect(method=\"odbc\", system=\"amrndhp3\",\n",
    "        username=uname, password=pword);"
   ]
  },
  {
   "cell_type": "code",
   "execution_count": 3,
   "metadata": {
    "collapsed": false
   },
   "outputs": [],
   "source": [
    "# Get CMS data (takes about 30 seconds)\n",
    "\n",
    "listed_data = []\n",
    "data = session.execute(\"SELECT * FROM HVAD_TEAM_T.mw_cms_kol_all_2k17\")\n",
    "for row in data:\n",
    "    listed_data.append(row[0:])"
   ]
  },
  {
   "cell_type": "code",
   "execution_count": 4,
   "metadata": {
    "collapsed": false
   },
   "outputs": [
    {
     "data": {
      "text/plain": [
       "['record_id',\n",
       " 'phys_full_name',\n",
       " 'assoc_type',\n",
       " 'product',\n",
       " 'payment_date',\n",
       " 'amount',\n",
       " 'num_payments',\n",
       " 'payment_nature',\n",
       " 'Payment_Year',\n",
       " 'submitting_company',\n",
       " 'paying_company',\n",
       " 'consolidating_company']"
      ]
     },
     "execution_count": 4,
     "metadata": {},
     "output_type": "execute_result"
    }
   ],
   "source": [
    "# Get column names\n",
    "\n",
    "col_names = []\n",
    "col_names_ter = session.execute(\"SELECT ColumnName FROM dbc.ColumnsV WHERE DatabaseName='HVAD_TEAM_T' AND TableName='mw_cms_kol_all_2k17' ORDER BY ColumnId\")\n",
    "for item in col_names_ter:\n",
    "    col_names.append(item[0])\n",
    "col_names"
   ]
  },
  {
   "cell_type": "code",
   "execution_count": 5,
   "metadata": {
    "collapsed": false
   },
   "outputs": [
    {
     "data": {
      "text/html": [
       "<div>\n",
       "<table border=\"1\" class=\"dataframe\">\n",
       "  <thead>\n",
       "    <tr style=\"text-align: right;\">\n",
       "      <th></th>\n",
       "      <th>record_id</th>\n",
       "      <th>phys_full_name</th>\n",
       "      <th>assoc_type</th>\n",
       "      <th>product</th>\n",
       "      <th>payment_date</th>\n",
       "      <th>amount</th>\n",
       "      <th>num_payments</th>\n",
       "      <th>payment_nature</th>\n",
       "      <th>Payment_Year</th>\n",
       "      <th>submitting_company</th>\n",
       "      <th>paying_company</th>\n",
       "      <th>consolidating_company</th>\n",
       "    </tr>\n",
       "  </thead>\n",
       "  <tbody>\n",
       "    <tr>\n",
       "      <th>0</th>\n",
       "      <td>389957222</td>\n",
       "      <td>Soloman, Nehad</td>\n",
       "      <td>recipient</td>\n",
       "      <td>PROLIA</td>\n",
       "      <td>2016-10-06</td>\n",
       "      <td>123.19</td>\n",
       "      <td>1</td>\n",
       "      <td>Food and Beverage</td>\n",
       "      <td>2016</td>\n",
       "      <td>Amgen Inc.</td>\n",
       "      <td>Amgen Inc.</td>\n",
       "      <td>Amgen Inc.</td>\n",
       "    </tr>\n",
       "    <tr>\n",
       "      <th>1</th>\n",
       "      <td>31093345</td>\n",
       "      <td>Strand, Vibeke</td>\n",
       "      <td>recipient</td>\n",
       "      <td>None</td>\n",
       "      <td>2013-11-06</td>\n",
       "      <td>65.07</td>\n",
       "      <td>1</td>\n",
       "      <td>Travel and Lodging</td>\n",
       "      <td>2013</td>\n",
       "      <td>AbbVie, Inc.</td>\n",
       "      <td>AbbVie, Inc.</td>\n",
       "      <td>AbbVie, Inc.</td>\n",
       "    </tr>\n",
       "    <tr>\n",
       "      <th>2</th>\n",
       "      <td>309188896</td>\n",
       "      <td>Aelion, Jacob</td>\n",
       "      <td>recipient</td>\n",
       "      <td>HUMIRA</td>\n",
       "      <td>2015-02-25</td>\n",
       "      <td>12.95</td>\n",
       "      <td>1</td>\n",
       "      <td>Food and Beverage</td>\n",
       "      <td>2015</td>\n",
       "      <td>AbbVie, Inc.</td>\n",
       "      <td>AbbVie, Inc.</td>\n",
       "      <td>AbbVie, Inc.</td>\n",
       "    </tr>\n",
       "    <tr>\n",
       "      <th>3</th>\n",
       "      <td>359329330</td>\n",
       "      <td>Lambert, Rhonda E</td>\n",
       "      <td>recipient</td>\n",
       "      <td>KRYSTEXXA</td>\n",
       "      <td>2016-08-12</td>\n",
       "      <td>43.14</td>\n",
       "      <td>1</td>\n",
       "      <td>Food and Beverage</td>\n",
       "      <td>2016</td>\n",
       "      <td>Horizon Pharma plc</td>\n",
       "      <td>Horizon Pharma plc</td>\n",
       "      <td>Horizon Pharma plc</td>\n",
       "    </tr>\n",
       "    <tr>\n",
       "      <th>4</th>\n",
       "      <td>388751724</td>\n",
       "      <td>Huffstutter, Joseph E</td>\n",
       "      <td>recipient</td>\n",
       "      <td>ENBREL</td>\n",
       "      <td>2016-11-11</td>\n",
       "      <td>12.40</td>\n",
       "      <td>1</td>\n",
       "      <td>Food and Beverage</td>\n",
       "      <td>2016</td>\n",
       "      <td>Amgen Inc.</td>\n",
       "      <td>Amgen Inc.</td>\n",
       "      <td>Amgen Inc.</td>\n",
       "    </tr>\n",
       "  </tbody>\n",
       "</table>\n",
       "</div>"
      ],
      "text/plain": [
       "   record_id         phys_full_name assoc_type    product payment_date  \\\n",
       "0  389957222         Soloman, Nehad  recipient     PROLIA   2016-10-06   \n",
       "1   31093345         Strand, Vibeke  recipient       None   2013-11-06   \n",
       "2  309188896          Aelion, Jacob  recipient     HUMIRA   2015-02-25   \n",
       "3  359329330      Lambert, Rhonda E  recipient  KRYSTEXXA   2016-08-12   \n",
       "4  388751724  Huffstutter, Joseph E  recipient     ENBREL   2016-11-11   \n",
       "\n",
       "   amount num_payments      payment_nature Payment_Year  submitting_company  \\\n",
       "0  123.19            1   Food and Beverage         2016          Amgen Inc.   \n",
       "1   65.07            1  Travel and Lodging         2013        AbbVie, Inc.   \n",
       "2   12.95            1   Food and Beverage         2015        AbbVie, Inc.   \n",
       "3   43.14            1   Food and Beverage         2016  Horizon Pharma plc   \n",
       "4   12.40            1   Food and Beverage         2016          Amgen Inc.   \n",
       "\n",
       "       paying_company consolidating_company  \n",
       "0          Amgen Inc.            Amgen Inc.  \n",
       "1        AbbVie, Inc.          AbbVie, Inc.  \n",
       "2        AbbVie, Inc.          AbbVie, Inc.  \n",
       "3  Horizon Pharma plc    Horizon Pharma plc  \n",
       "4          Amgen Inc.            Amgen Inc.  "
      ]
     },
     "execution_count": 5,
     "metadata": {},
     "output_type": "execute_result"
    }
   ],
   "source": [
    "# Initialize dataframe\n",
    "\n",
    "df = pd.DataFrame(data=listed_data, columns = col_names)\n",
    "df.head()"
   ]
  },
  {
   "cell_type": "code",
   "execution_count": 8,
   "metadata": {
    "collapsed": false
   },
   "outputs": [],
   "source": [
    "# Improve formatting for numerical data\n",
    "\n",
    "df['Payment_Year'] = df['Payment_Year'].apply(int)\n",
    "df['amount'] = df['amount'].apply(float)\n",
    "df['num_payments'] = df['num_payments'].dropna()\n",
    "df['num_payments'] = df['num_payments'].apply(float)"
   ]
  },
  {
   "cell_type": "code",
   "execution_count": 9,
   "metadata": {
    "collapsed": true
   },
   "outputs": [],
   "source": [
    "# Create unique int labels for categorical data so the Unsupervised Learning algos can process the dataframe\n",
    "\n",
    "for colname in ['phys_full_name','assoc_type','payment_date','product','payment_nature','consolidating_company']:\n",
    "    dkeys = df[colname].unique()\n",
    "    dvalues = list(range(len(df[colname].unique())))\n",
    "    dmapping = dict(zip(dkeys, dvalues))\n",
    "    df = df.replace({colname: dmapping})"
   ]
  },
  {
   "cell_type": "code",
   "execution_count": 15,
   "metadata": {
    "collapsed": false
   },
   "outputs": [
    {
     "data": {
      "text/html": [
       "<div>\n",
       "<table border=\"1\" class=\"dataframe\">\n",
       "  <thead>\n",
       "    <tr style=\"text-align: right;\">\n",
       "      <th></th>\n",
       "      <th>record_id</th>\n",
       "      <th>phys_full_name</th>\n",
       "      <th>assoc_type</th>\n",
       "      <th>product</th>\n",
       "      <th>payment_date</th>\n",
       "      <th>amount</th>\n",
       "      <th>num_payments</th>\n",
       "      <th>payment_nature</th>\n",
       "      <th>Payment_Year</th>\n",
       "      <th>consolidating_company</th>\n",
       "    </tr>\n",
       "  </thead>\n",
       "  <tbody>\n",
       "    <tr>\n",
       "      <th>0</th>\n",
       "      <td>389957222</td>\n",
       "      <td>0</td>\n",
       "      <td>0</td>\n",
       "      <td>0</td>\n",
       "      <td>0</td>\n",
       "      <td>123.19</td>\n",
       "      <td>1.0</td>\n",
       "      <td>0</td>\n",
       "      <td>2016</td>\n",
       "      <td>0</td>\n",
       "    </tr>\n",
       "    <tr>\n",
       "      <th>1</th>\n",
       "      <td>31093345</td>\n",
       "      <td>1</td>\n",
       "      <td>0</td>\n",
       "      <td>1</td>\n",
       "      <td>1</td>\n",
       "      <td>65.07</td>\n",
       "      <td>1.0</td>\n",
       "      <td>1</td>\n",
       "      <td>2013</td>\n",
       "      <td>1</td>\n",
       "    </tr>\n",
       "    <tr>\n",
       "      <th>2</th>\n",
       "      <td>309188896</td>\n",
       "      <td>2</td>\n",
       "      <td>0</td>\n",
       "      <td>2</td>\n",
       "      <td>2</td>\n",
       "      <td>12.95</td>\n",
       "      <td>1.0</td>\n",
       "      <td>0</td>\n",
       "      <td>2015</td>\n",
       "      <td>1</td>\n",
       "    </tr>\n",
       "    <tr>\n",
       "      <th>3</th>\n",
       "      <td>359329330</td>\n",
       "      <td>3</td>\n",
       "      <td>0</td>\n",
       "      <td>3</td>\n",
       "      <td>3</td>\n",
       "      <td>43.14</td>\n",
       "      <td>1.0</td>\n",
       "      <td>0</td>\n",
       "      <td>2016</td>\n",
       "      <td>2</td>\n",
       "    </tr>\n",
       "    <tr>\n",
       "      <th>4</th>\n",
       "      <td>388751724</td>\n",
       "      <td>4</td>\n",
       "      <td>0</td>\n",
       "      <td>4</td>\n",
       "      <td>4</td>\n",
       "      <td>12.40</td>\n",
       "      <td>1.0</td>\n",
       "      <td>0</td>\n",
       "      <td>2016</td>\n",
       "      <td>0</td>\n",
       "    </tr>\n",
       "  </tbody>\n",
       "</table>\n",
       "</div>"
      ],
      "text/plain": [
       "   record_id  phys_full_name  assoc_type  product  payment_date  amount  \\\n",
       "0  389957222               0           0        0             0  123.19   \n",
       "1   31093345               1           0        1             1   65.07   \n",
       "2  309188896               2           0        2             2   12.95   \n",
       "3  359329330               3           0        3             3   43.14   \n",
       "4  388751724               4           0        4             4   12.40   \n",
       "\n",
       "   num_payments  payment_nature  Payment_Year  consolidating_company  \n",
       "0           1.0               0          2016                      0  \n",
       "1           1.0               1          2013                      1  \n",
       "2           1.0               0          2015                      1  \n",
       "3           1.0               0          2016                      2  \n",
       "4           1.0               0          2016                      0  "
      ]
     },
     "execution_count": 15,
     "metadata": {},
     "output_type": "execute_result"
    }
   ],
   "source": [
    "# Exclude irrelevant columns and incomplete rows\n",
    "\n",
    "df = df.drop(['submitting_company', 'paying_company'], axis=1)\n",
    "df = df.dropna()\n",
    "df.head()"
   ]
  },
  {
   "cell_type": "code",
   "execution_count": null,
   "metadata": {
    "collapsed": false
   },
   "outputs": [],
   "source": [
    "# Separate categorical data and numerical data just in case we want to analyze either individually\n",
    "\n",
    "# categorical_data = df[['record_id','phys_full_name','assoc_type','payment_date','product','payment_nature','submitting_company',\n",
    "#                        'paying_company','consolidating_company']]\n",
    "# numerical_data = df.drop(['record_id','phys_full_name','assoc_type','payment_date','product','payment_nature',\n",
    "#                           'consolidating_company','submitting_company','paying_company'], axis=1)\n",
    "# numerical_data.head()"
   ]
  },
  {
   "cell_type": "code",
   "execution_count": null,
   "metadata": {
    "collapsed": false
   },
   "outputs": [],
   "source": [
    "# Non ML outlier-detection:\n",
    "# Keep only the outliers (outside +3 to -3 standard deviations)\n",
    "\n",
    "# outliers = numerical_data[(np.abs(numerical_data-numerical_data.mean())>(3*numerical_data.std()))].dropna(how='all')\n",
    "outliers = df[(np.abs(df-df.mean())>(3*df.std()))].dropna(how='all')"
   ]
  },
  {
   "cell_type": "code",
   "execution_count": 27,
   "metadata": {
    "collapsed": false
   },
   "outputs": [
    {
     "data": {
      "text/plain": [
       "<94886x94886 sparse matrix of type '<class 'numpy.float64'>'\n",
       "\twith 284658 stored elements in Compressed Sparse Row format>"
      ]
     },
     "execution_count": 27,
     "metadata": {},
     "output_type": "execute_result"
    }
   ],
   "source": [
    "# Make a K-Neighbors Graph. Not sure what this does yet.\n",
    "# http://scikit-learn.org/stable/modules/generated/sklearn.neighbors.KNeighborsClassifier.html#sklearn.neighbors.KNeighborsClassifier.kneighbors_graph\n",
    "\n",
    "k=3\n",
    "# X = numerical_data\n",
    "nbrs = NearestNeighbors(n_neighbors=k, algorithm='auto').fit(df)\n",
    "distances, indices = nbrs.kneighbors(df)\n",
    "nbrs.kneighbors_graph(df)"
   ]
  },
  {
   "cell_type": "code",
   "execution_count": 22,
   "metadata": {
    "collapsed": false
   },
   "outputs": [],
   "source": [
    "# Isolation Forest Scoring\n",
    "from sklearn.ensemble import IsolationForest\n",
    "\n",
    "Forest = IsolationForest()\n",
    "Forest.fit(df)\n",
    "df['IForest Score'] = Forest.decision_function(df)"
   ]
  },
  {
   "cell_type": "code",
   "execution_count": 19,
   "metadata": {
    "collapsed": false
   },
   "outputs": [
    {
     "name": "stderr",
     "output_type": "stream",
     "text": [
      "C:\\Program Files\\Anaconda3\\lib\\site-packages\\sklearn\\covariance\\robust_covariance.py:622: UserWarning: The covariance matrix associated to your dataset is not full rank\n",
      "  warnings.warn(\"The covariance matrix associated to your dataset \"\n"
     ]
    }
   ],
   "source": [
    "# Elliptic Envelope Scoring\n",
    "from sklearn.covariance import EllipticEnvelope\n",
    "\n",
    "Envelope = EllipticEnvelope()\n",
    "Envelope.fit(df)\n",
    "df['Elliptical Score'] = Envelope.decision_function(df)"
   ]
  },
  {
   "cell_type": "code",
   "execution_count": null,
   "metadata": {
    "collapsed": true
   },
   "outputs": [],
   "source": [
    "# Local Outlier Factor Labeling\n",
    "from sklearn.neighbors import LocalOutlierFactor\n",
    "\n",
    "LOF = LocalOutlierFactor()\n",
    "LOF.fit(df)\n",
    "df['LOF Labels'] = LOF.fit_predict(df)"
   ]
  },
  {
   "cell_type": "code",
   "execution_count": null,
   "metadata": {
    "collapsed": false
   },
   "outputs": [],
   "source": [
    "# x = numerical_data['Payment_Year']\n",
    "# y = numerical_data['amount']\n",
    "\n",
    "# plt.figure()\n",
    "# plt.scatter(x, y)\n",
    "# plt.show()\n",
    "\n",
    "# plt.figure()\n",
    "# plt.scatter(numerical_data['Payment_Year'], numerical_data['num_payments'])\n",
    "# plt.show()\n",
    "\n",
    "# plt.figure()\n",
    "# plt.scatter(numerical_data['num_payments'], numerical_data['amount'])\n",
    "# plt.show()"
   ]
  },
  {
   "cell_type": "code",
   "execution_count": 26,
   "metadata": {
    "collapsed": false
   },
   "outputs": [
    {
     "data": {
      "text/html": [
       "<div>\n",
       "<table border=\"1\" class=\"dataframe\">\n",
       "  <thead>\n",
       "    <tr style=\"text-align: right;\">\n",
       "      <th></th>\n",
       "      <th>record_id</th>\n",
       "      <th>phys_full_name</th>\n",
       "      <th>assoc_type</th>\n",
       "      <th>product</th>\n",
       "      <th>payment_date</th>\n",
       "      <th>amount</th>\n",
       "      <th>num_payments</th>\n",
       "      <th>payment_nature</th>\n",
       "      <th>Payment_Year</th>\n",
       "      <th>consolidating_company</th>\n",
       "      <th>IForest Score</th>\n",
       "      <th>Elliptical Score</th>\n",
       "      <th>LOF Labels</th>\n",
       "    </tr>\n",
       "  </thead>\n",
       "  <tbody>\n",
       "    <tr>\n",
       "      <th>0</th>\n",
       "      <td>389957222</td>\n",
       "      <td>0</td>\n",
       "      <td>0</td>\n",
       "      <td>0</td>\n",
       "      <td>0</td>\n",
       "      <td>123.19</td>\n",
       "      <td>1.0</td>\n",
       "      <td>0</td>\n",
       "      <td>2016</td>\n",
       "      <td>0</td>\n",
       "      <td>0.024290</td>\n",
       "      <td>0.807282</td>\n",
       "      <td>1</td>\n",
       "    </tr>\n",
       "    <tr>\n",
       "      <th>1</th>\n",
       "      <td>31093345</td>\n",
       "      <td>1</td>\n",
       "      <td>0</td>\n",
       "      <td>1</td>\n",
       "      <td>1</td>\n",
       "      <td>65.07</td>\n",
       "      <td>1.0</td>\n",
       "      <td>1</td>\n",
       "      <td>2013</td>\n",
       "      <td>1</td>\n",
       "      <td>-0.023504</td>\n",
       "      <td>-0.417888</td>\n",
       "      <td>1</td>\n",
       "    </tr>\n",
       "    <tr>\n",
       "      <th>2</th>\n",
       "      <td>309188896</td>\n",
       "      <td>2</td>\n",
       "      <td>0</td>\n",
       "      <td>2</td>\n",
       "      <td>2</td>\n",
       "      <td>12.95</td>\n",
       "      <td>1.0</td>\n",
       "      <td>0</td>\n",
       "      <td>2015</td>\n",
       "      <td>1</td>\n",
       "      <td>0.089157</td>\n",
       "      <td>1.371532</td>\n",
       "      <td>1</td>\n",
       "    </tr>\n",
       "    <tr>\n",
       "      <th>3</th>\n",
       "      <td>359329330</td>\n",
       "      <td>3</td>\n",
       "      <td>0</td>\n",
       "      <td>3</td>\n",
       "      <td>3</td>\n",
       "      <td>43.14</td>\n",
       "      <td>1.0</td>\n",
       "      <td>0</td>\n",
       "      <td>2016</td>\n",
       "      <td>2</td>\n",
       "      <td>-0.018008</td>\n",
       "      <td>1.042721</td>\n",
       "      <td>-1</td>\n",
       "    </tr>\n",
       "    <tr>\n",
       "      <th>4</th>\n",
       "      <td>388751724</td>\n",
       "      <td>4</td>\n",
       "      <td>0</td>\n",
       "      <td>4</td>\n",
       "      <td>4</td>\n",
       "      <td>12.40</td>\n",
       "      <td>1.0</td>\n",
       "      <td>0</td>\n",
       "      <td>2016</td>\n",
       "      <td>0</td>\n",
       "      <td>0.056176</td>\n",
       "      <td>0.800109</td>\n",
       "      <td>1</td>\n",
       "    </tr>\n",
       "  </tbody>\n",
       "</table>\n",
       "</div>"
      ],
      "text/plain": [
       "   record_id  phys_full_name  assoc_type  product  payment_date  amount  \\\n",
       "0  389957222               0           0        0             0  123.19   \n",
       "1   31093345               1           0        1             1   65.07   \n",
       "2  309188896               2           0        2             2   12.95   \n",
       "3  359329330               3           0        3             3   43.14   \n",
       "4  388751724               4           0        4             4   12.40   \n",
       "\n",
       "   num_payments  payment_nature  Payment_Year  consolidating_company  \\\n",
       "0           1.0               0          2016                      0   \n",
       "1           1.0               1          2013                      1   \n",
       "2           1.0               0          2015                      1   \n",
       "3           1.0               0          2016                      2   \n",
       "4           1.0               0          2016                      0   \n",
       "\n",
       "   IForest Score  Elliptical Score  LOF Labels  \n",
       "0       0.024290          0.807282           1  \n",
       "1      -0.023504         -0.417888           1  \n",
       "2       0.089157          1.371532           1  \n",
       "3      -0.018008          1.042721          -1  \n",
       "4       0.056176          0.800109           1  "
      ]
     },
     "execution_count": 26,
     "metadata": {},
     "output_type": "execute_result"
    }
   ],
   "source": [
    "df.head()"
   ]
  }
 ],
 "metadata": {
  "anaconda-cloud": {},
  "kernelspec": {
   "display_name": "Python [Root]",
   "language": "python",
   "name": "Python [Root]"
  },
  "language_info": {
   "codemirror_mode": {
    "name": "ipython",
    "version": 3
   },
   "file_extension": ".py",
   "mimetype": "text/x-python",
   "name": "python",
   "nbconvert_exporter": "python",
   "pygments_lexer": "ipython3",
   "version": "3.5.4"
  }
 },
 "nbformat": 4,
 "nbformat_minor": 0
}
